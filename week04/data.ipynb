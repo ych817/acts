{
 "cells": [
  {
   "cell_type": "code",
   "execution_count": 2,
   "id": "501b2043",
   "metadata": {},
   "outputs": [
    {
     "name": "stdout",
     "output_type": "stream",
     "text": [
      "   EmailID                        Subject                Sender  \\\n",
      "0        1             Win a Free iPhone!      promo@winbig.com   \n",
      "1        2  Important: Account Suspension  support@fakemail.com   \n",
      "\n",
      "                                     Content  ContainsLink  IsSpam  \n",
      "0  Click here to claim your free iPhone now!          True    True  \n",
      "1   We noticed unusual activity. Verify now.          True    True  \n"
     ]
    }
   ],
   "source": [
    "import pandas as pd\n",
    "df = pd.read_csv('sample_junk_mail.csv')\n",
    "print(df.head(2))"
   ]
  },
  {
   "cell_type": "code",
   "execution_count": null,
   "id": "82de7c2a",
   "metadata": {},
   "outputs": [
    {
     "name": "stdout",
     "output_type": "stream",
     "text": [
      "Number of lines in 'Sample_text.txt': 11\n"
     ]
    },
    {
     "ename": "NameError",
     "evalue": "name 'pd' is not defined",
     "output_type": "error",
     "traceback": [
      "\u001b[31m---------------------------------------------------------------------------\u001b[39m",
      "\u001b[31mNameError\u001b[39m                                 Traceback (most recent call last)",
      "\u001b[36mCell\u001b[39m\u001b[36m \u001b[39m\u001b[32mIn[1]\u001b[39m\u001b[32m, line 8\u001b[39m\n\u001b[32m      5\u001b[39m \u001b[38;5;28mprint\u001b[39m(\u001b[33mf\u001b[39m\u001b[33m\"\u001b[39m\u001b[33mNumber of lines in \u001b[39m\u001b[33m'\u001b[39m\u001b[33mSample_text.txt\u001b[39m\u001b[33m'\u001b[39m\u001b[33m: \u001b[39m\u001b[38;5;132;01m{\u001b[39;00mnum_lines\u001b[38;5;132;01m}\u001b[39;00m\u001b[33m\"\u001b[39m)\n\u001b[32m      7\u001b[39m \u001b[38;5;66;03m# Load the parquet file and print the number of features\u001b[39;00m\n\u001b[32m----> \u001b[39m\u001b[32m8\u001b[39m df_parquet = pd.read_parquet(\u001b[33m'\u001b[39m\u001b[33mSample_data_2.parquet\u001b[39m\u001b[33m'\u001b[39m)\n\u001b[32m      9\u001b[39m num_features = \u001b[38;5;28mlen\u001b[39m(df_parquet.columns)\n\u001b[32m     10\u001b[39m \u001b[38;5;28mprint\u001b[39m(\u001b[33mf\u001b[39m\u001b[33m\"\u001b[39m\u001b[33mNumber of features in \u001b[39m\u001b[33m'\u001b[39m\u001b[33mSample_data_2.parquet\u001b[39m\u001b[33m'\u001b[39m\u001b[33m: \u001b[39m\u001b[38;5;132;01m{\u001b[39;00mnum_features\u001b[38;5;132;01m}\u001b[39;00m\u001b[33m\"\u001b[39m)\n",
      "\u001b[31mNameError\u001b[39m: name 'pd' is not defined"
     ]
    }
   ],
   "source": [
    "# Load the text file and count the number of lines\n",
    "with open('Sample_text.txt', 'r') as file:\n",
    "\ttext_content = file.read()\n",
    "\tnum_lines = text_content.count('\\n') + 1  # Counting lines\n",
    "print(f\"Number of lines in 'Sample_text.txt': {num_lines}\")\n",
    "\n",
    "# Load the parquet file and print the number of features\n",
    "# df_parquet = pd.read_parquet('Sample_data_2.parquet')\n",
    "# num_features = len(df_parquet.columns)\n",
    "# print(f\"Number of features in 'Sample_data_2.parquet': {num_features}\")"
   ]
  }
 ],
 "metadata": {
  "kernelspec": {
   "display_name": "activities",
   "language": "python",
   "name": "python3"
  },
  "language_info": {
   "codemirror_mode": {
    "name": "ipython",
    "version": 3
   },
   "file_extension": ".py",
   "mimetype": "text/x-python",
   "name": "python",
   "nbconvert_exporter": "python",
   "pygments_lexer": "ipython3",
   "version": "3.11.11"
  }
 },
 "nbformat": 4,
 "nbformat_minor": 5
}
