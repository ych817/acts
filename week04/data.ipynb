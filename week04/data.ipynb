{
 "cells": [
  {
   "cell_type": "code",
   "execution_count": 1,
   "id": "501b2043",
   "metadata": {},
   "outputs": [
    {
     "name": "stdout",
     "output_type": "stream",
     "text": [
      "   EmailID                        Subject                Sender  \\\n",
      "0        1             Win a Free iPhone!      promo@winbig.com   \n",
      "1        2  Important: Account Suspension  support@fakemail.com   \n",
      "\n",
      "                                     Content  ContainsLink  IsSpam  \n",
      "0  Click here to claim your free iPhone now!          True    True  \n",
      "1   We noticed unusual activity. Verify now.          True    True  \n"
     ]
    }
   ],
   "source": [
    "import pandas as pd\n",
    "df = pd.read_csv('sample_junk_mail.csv')\n",
    "print(df.head(2))"
   ]
  },
  {
   "cell_type": "code",
   "execution_count": 2,
   "id": "82de7c2a",
   "metadata": {},
   "outputs": [
    {
     "name": "stdout",
     "output_type": "stream",
     "text": [
      "Number of '__' in 'Sample_text.txt': 2\n"
     ]
    }
   ],
   "source": [
    "# Load the text file and count the number of lines\n",
    "with open('Sample_text.txt', 'r') as file:\n",
    "\ttext_content = file.read()\n",
    "\n",
    "num_double_underscores = text_content.count('__')\n",
    "print(f\"Number of '__' in 'Sample_text.txt': {num_double_underscores}\")"
   ]
  },
  {
   "cell_type": "code",
   "execution_count": 3,
   "id": "786882b5",
   "metadata": {},
   "outputs": [
    {
     "name": "stdout",
     "output_type": "stream",
     "text": [
      "Number of features in 'Sample_data_2.parquet': 12\n"
     ]
    }
   ],
   "source": [
    "pd.set_option('display.max_columns', None)  # Show all columns in the output\n",
    "# Load the Parquet file\n",
    "parquet_df = pd.read_parquet('Sample_data_2.parquet')\n",
    "# Print the number of features (columns)\n",
    "print(f\"Number of features in 'Sample_data_2.parquet': {len(parquet_df.columns)}\")"
   ]
  }
 ],
 "metadata": {
  "kernelspec": {
   "display_name": "activities",
   "language": "python",
   "name": "python3"
  },
  "language_info": {
   "codemirror_mode": {
    "name": "ipython",
    "version": 3
   },
   "file_extension": ".py",
   "mimetype": "text/x-python",
   "name": "python",
   "nbconvert_exporter": "python",
   "pygments_lexer": "ipython3",
   "version": "3.11.11"
  }
 },
 "nbformat": 4,
 "nbformat_minor": 5
}
