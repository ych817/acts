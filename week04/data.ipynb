{
 "cells": [
  {
   "cell_type": "code",
   "execution_count": 2,
   "id": "501b2043",
   "metadata": {},
   "outputs": [
    {
     "name": "stdout",
     "output_type": "stream",
     "text": [
      "   EmailID                        Subject                Sender  \\\n",
      "0        1             Win a Free iPhone!      promo@winbig.com   \n",
      "1        2  Important: Account Suspension  support@fakemail.com   \n",
      "\n",
      "                                     Content  ContainsLink  IsSpam  \n",
      "0  Click here to claim your free iPhone now!          True    True  \n",
      "1   We noticed unusual activity. Verify now.          True    True  \n"
     ]
    }
   ],
   "source": [
    "import pandas as pd\n",
    "df = pd.read_csv('sample_junk_mail.csv')\n",
    "print(df.head(2))"
   ]
  },
  {
   "cell_type": "code",
   "execution_count": 6,
   "id": "82de7c2a",
   "metadata": {},
   "outputs": [
    {
     "name": "stdout",
     "output_type": "stream",
     "text": [
      "Number of '__' in 'Sample_text.txt': 2\n"
     ]
    }
   ],
   "source": [
    "# Load the text file and count the number of lines\n",
    "num_double_underscores = text_content.count('__')\n",
    "print(f\"Number of '__' in 'Sample_text.txt': {num_double_underscores}\")"
   ]
  },
  {
   "cell_type": "code",
   "execution_count": 11,
   "id": "786882b5",
   "metadata": {},
   "outputs": [
    {
     "name": "stdout",
     "output_type": "stream",
     "text": [
      "Number of features: 6\n"
     ]
    }
   ],
   "source": [
    "# Save the existing DataFrame as a Parquet file\n",
    "df.to_parquet('sample_data.parquet')\n",
    "\n",
    "# Load the Parquet file\n",
    "parquet_df = pd.read_parquet('sample_data.parquet')\n",
    "\n",
    "# Print the number of features (columns)\n",
    "print(f\"Number of features: {parquet_df.shape[1]}\")"
   ]
  },
  {
   "cell_type": "code",
   "execution_count": 12,
   "id": "d8a023fd",
   "metadata": {},
   "outputs": [
    {
     "name": "stdout",
     "output_type": "stream",
     "text": [
      "   EmailID                        Subject                 Sender  \\\n",
      "0        1             Win a Free iPhone!       promo@winbig.com   \n",
      "1        2  Important: Account Suspension   support@fakemail.com   \n",
      "2        3      Newsletter - April Update  news@legitcompany.com   \n",
      "3        4         You have been selected       lottery@scam.org   \n",
      "4        5            Team Meeting Agenda  colleague@company.com   \n",
      "\n",
      "                                             Content  ContainsLink  IsSpam  \n",
      "0          Click here to claim your free iPhone now!          True    True  \n",
      "1           We noticed unusual activity. Verify now.          True    True  \n",
      "2                   Here is your monthly newsletter.         False   False  \n",
      "3         Congratulations! You are our lucky winner!          True    True  \n",
      "4  Please find the agenda for tomorrow’s meeting ...         False   False  \n"
     ]
    }
   ],
   "source": [
    "# Display the full content of the Parquet file\n",
    "print(parquet_df)"
   ]
  },
  {
   "cell_type": "code",
   "execution_count": null,
   "id": "dc22b8ef",
   "metadata": {},
   "outputs": [],
   "source": []
  }
 ],
 "metadata": {
  "kernelspec": {
   "display_name": "activities",
   "language": "python",
   "name": "python3"
  },
  "language_info": {
   "codemirror_mode": {
    "name": "ipython",
    "version": 3
   },
   "file_extension": ".py",
   "mimetype": "text/x-python",
   "name": "python",
   "nbconvert_exporter": "python",
   "pygments_lexer": "ipython3",
   "version": "3.11.11"
  }
 },
 "nbformat": 4,
 "nbformat_minor": 5
}
