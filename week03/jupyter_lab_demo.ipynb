{
 "cells": [
  {
   "cell_type": "markdown",
   "id": "3a4a4cb4",
   "metadata": {},
   "source": []
  },
  {
   "cell_type": "markdown",
   "id": "dcd7ed55",
   "metadata": {},
   "source": [
    "Write a code to use round function to calculate the area of a rectangle land ."
   ]
  },
  {
   "cell_type": "code",
   "execution_count": null,
   "id": "4e29285d",
   "metadata": {},
   "outputs": [
    {
     "name": "stdout",
     "output_type": "stream",
     "text": [
      "round 114.50: 114\n",
      "round 114.51: 115\n",
      "area: 17.6\n",
      "rounded area: 17.6\n"
     ]
    }
   ],
   "source": [
    "print(\"round 114.50:\", round(114.50))\n",
    "print(\"round 114.51:\", round(114.51))\n",
    "rounded_area = lambda length, width: round(length * width)\n",
    "print(\"area:\", 5.5*3.2)\n",
    "print(\"rounded area:\", rounded_area(5.5, 3.2))"
   ]
  },
  {
   "cell_type": "markdown",
   "id": "54084979",
   "metadata": {},
   "source": [
    "Write a function to calculate the factorial of $n$ ."
   ]
  },
  {
   "cell_type": "code",
   "execution_count": 7,
   "id": "c3fa19c8",
   "metadata": {},
   "outputs": [
    {
     "name": "stdout",
     "output_type": "stream",
     "text": [
      "factorial of 1 = 1\n"
     ]
    }
   ],
   "source": [
    "def factorial(n):\n",
    "    return n*factorial(n-1) if n >= 1 else 1\n",
    "print(\"factorial of 1 =\", factorial(1))"
   ]
  },
  {
   "cell_type": "code",
   "execution_count": null,
   "id": "1e8d5388",
   "metadata": {},
   "outputs": [],
   "source": [
    "import functools\n",
    "def factorial(n):\n",
    "    return functools.reduce(lambda x, y: x*y, range(1, n+1), 1)"
   ]
  }
 ],
 "metadata": {
  "kernelspec": {
   "display_name": "activities",
   "language": "python",
   "name": "python3"
  },
  "language_info": {
   "codemirror_mode": {
    "name": "ipython",
    "version": 3
   },
   "file_extension": ".py",
   "mimetype": "text/x-python",
   "name": "python",
   "nbconvert_exporter": "python",
   "pygments_lexer": "ipython3",
   "version": "3.11.11"
  }
 },
 "nbformat": 4,
 "nbformat_minor": 5
}
